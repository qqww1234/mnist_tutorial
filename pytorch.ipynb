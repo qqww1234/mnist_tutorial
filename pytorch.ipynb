{
 "cells": [
  {
   "cell_type": "markdown",
   "metadata": {},
   "source": [
    "# Pytorch Tutorial"
   ]
  },
  {
   "cell_type": "markdown",
   "metadata": {},
   "source": [
    "Pytorch is a popular deep learning framework and it's easy to get started."
   ]
  },
  {
   "cell_type": "code",
   "execution_count": null,
   "metadata": {
    "collapsed": true
   },
   "outputs": [],
   "source": [
    "import torch\n",
    "import torch.nn as nn\n",
    "import torch.utils.data as data\n",
    "import torchvision\n",
    "import torchvision.transforms as transforms\n",
    "from tqdm import tqdm\n",
    "import time\n",
    "\n",
    "BATCH_SIZE = 128\n",
    "NUM_EPOCHS = 10"
   ]
  },
  {
   "cell_type": "markdown",
   "metadata": {},
   "source": [
    "First, we read the mnist data, preprocess them and encapsulate them into dataloader form."
   ]
  },
  {
   "cell_type": "code",
   "execution_count": null,
   "metadata": {
    "collapsed": true
   },
   "outputs": [],
   "source": [
    "# preprocessing\n",
    "normalize = transforms.Normalize(mean=[.5], std=[.5])\n",
    "transform = transforms.Compose([transforms.ToTensor(), normalize])\n",
    "\n",
    "# download and load the data\n",
    "train_dataset = torchvision.datasets.MNIST(root='./mnist/', train=True, transform=transform, download=True)\n",
    "test_dataset = torchvision.datasets.MNIST(root='./mnist/', train=False, transform=transform, download=False)\n",
    "\n",
    "# encapsulate them into dataloader form\n",
    "train_loader = data.DataLoader(train_dataset, batch_size=BATCH_SIZE, shuffle=True, drop_last=True)\n",
    "test_loader = data.DataLoader(test_dataset, batch_size=BATCH_SIZE, shuffle=False, drop_last=True)"
   ]
  },
  {
   "cell_type": "markdown",
   "metadata": {},
   "source": [
    "Then, we define the model, object function and optimizer that we use to classify."
   ]
  },
  {
   "cell_type": "code",
   "execution_count": null,
   "metadata": {
    "collapsed": true
   },
   "outputs": [],
   "source": [
    "class SimpleNet(nn.Module):\n",
    "# TODO:define model\n",
    "    def __init__(self):\n",
    "    super(SimpleNet, self).__init__()\n",
    "    self.Conv = torch.nn.Sequential(\n",
    "        torch.nn.Conv2d(1, 28, kernel_size=3, padding=1, stride=1),\n",
    "        torch.nn.Conv2d(28, 64, kernel_size=3, padding=1, stride=1),\n",
    "        torch.nn.MaxPool2d(kernel_size=2, stride=2),\n",
    "        torch.nn.Conv2d(64, 64, kernel_size=3, padding=1, stride=1),\n",
    "        torch.nn.Conv2d(64, 64, kernel_size=3, padding=1, stride=1),\n",
    "        torch.nn.MaxPool2d(kernel_size=2, stride=2)\n",
    "    )\n",
    "    self.Dense = torch.nn.Linear(7 * 7 * 64, 10)\n",
    "def forward(self, input):\n",
    "    x = self.Conv(input)\n",
    "    x = x.view(-1, 7 * 7 * 64)\n",
    "    x = self.Dense(x)\n",
    "    return x\n",
    "model = SimpleNet()\n",
    "\n",
    "# TODO:define loss function and optimiter\n",
    "criterion = torch.nn.CrossEntropyLoss()\n",
    "optimizer = torch.optim.Adam(model.parameters(), lr=0.001)"
   ]
  },
  {
   "cell_type": "markdown",
   "metadata": {},
   "source": [
    "Next, we can start to train and evaluate!"
   ]
  },
  {
   "cell_type": "code",
   "execution_count": null,
   "metadata": {
    "collapsed": true,
    "scrolled": true
   },
   "outputs": [],
   "source": [
   "# train and evaluate\n",
   "for epoch in range(NUM_EPOCHS):\n",
   "epoch_loss = 0.0\n",
   "epoch_acc = 0.0\n",
   "for batch in train_loader:\n",
   "     X_train,y_train = batch\n",
   "     y_pred = model(X_train)\n",
   "     _,pred =torch.max(y_pred, 1)\n",
   "     optimizer.zero_grad()\n",
   "     loss = loss_f(y_pred, y_train)\n",
   "     loss.backward()\n",
   "     optimizer.step()\n",
   "     epoch_loss += loss.item()\n",
   "     epoch_acc += torch.sum(pred == y_train.data)\n",
   "     # evaluate\n",
   "     # TODO:calculate the accuracy using traning and testing dataset\n",
   "epoch_loss = epoch_loss*64/len(train_dataset)\n",
   "epoch_acc = epoch_acc.double()/len(train_dataset)\n",
   "print("Epoch{}: Loss is:{:.4f},Acc is:{:4f}".format(epoch, epoch_loss, epoch_acc))\n",
   ]
  },
  {
   "cell_type": "markdown",
   "metadata": {},
   "source": [
    "#### Q5:\n",
    "Please print the training and testing accuracy."
   ]
  }
 ],
 "metadata": {
  "kernelspec": {
   "display_name": "Python [default]",
   "language": "python",
   "name": "python3"
  },
  "language_info": {
   "codemirror_mode": {
    "name": "ipython",
    "version": 3
   },
   "file_extension": ".py",
   "mimetype": "text/x-python",
   "name": "python",
   "nbconvert_exporter": "python",
   "pygments_lexer": "ipython3",
   "version": "3.6.3"
  }
 },
 "nbformat": 4,
 "nbformat_minor": 2
}
